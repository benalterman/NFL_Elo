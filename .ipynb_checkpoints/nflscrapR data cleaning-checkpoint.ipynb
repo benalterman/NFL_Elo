{
 "cells": [
  {
   "cell_type": "code",
   "execution_count": 1,
   "metadata": {},
   "outputs": [],
   "source": [
    "# imports \n",
    "\n",
    "import pandas as pd\n",
    "import numpy as np"
   ]
  },
  {
   "cell_type": "code",
   "execution_count": 2,
   "metadata": {},
   "outputs": [],
   "source": [
    "# import 2019 pbp data\n",
    "\n",
    "url = \"https://raw.githubusercontent.com/ryurko/nflscrapR-data/master/play_by_play_data/regular_season/reg_pbp_2019.csv\"\n",
    "data = pd.read_csv(url, low_memory=False)\n",
    "pd.set_option('display.max_columns', 999)"
   ]
  },
  {
   "cell_type": "code",
   "execution_count": 3,
   "metadata": {},
   "outputs": [],
   "source": [
    "# data cleaning\n",
    "\n",
    "data = data.loc[(data.play_type.isin(['no_play','pass','run'])) &\n",
    "                (data.epa.isna()==False)]\n",
    "\n",
    "data.loc[data.desc.str.contains('left end|left tackle|left guard|up the middle|right guard|right tackle|right end|rushes'),\n",
    "'play_type'] = 'run'\n",
    "\n",
    "data.loc[data.desc.str.contains('scrambles|sacked|pass'), 'play_type'] = 'pass'\n",
    "\n",
    "data.reset_index(drop=True, inplace=True)"
   ]
  },
  {
   "cell_type": "code",
   "execution_count": 4,
   "metadata": {},
   "outputs": [
    {
     "name": "stderr",
     "output_type": "stream",
     "text": [
      "/Users/ben_alterman/opt/anaconda3/lib/python3.7/site-packages/pandas/core/indexing.py:205: SettingWithCopyWarning: \n",
      "A value is trying to be set on a copy of a slice from a DataFrame\n",
      "\n",
      "See the caveats in the documentation: http://pandas.pydata.org/pandas-docs/stable/user_guide/indexing.html#returning-a-view-versus-a-copy\n",
      "  self._setitem_with_indexer(indexer, value)\n"
     ]
    }
   ],
   "source": [
    "#Create a smaller dataframe with plays where rusher_player_name is null\n",
    "rusher_nan = data.loc[(data['play_type'] == 'run') &\n",
    "         (data['rusher_player_name'].isnull())]\n",
    "         \n",
    "#Create a list of the indexes/indices for the plays where rusher_player_name is null\n",
    "rusher_nan_indices = list(rusher_nan.index)\n",
    "\n",
    "for i in rusher_nan_indices:\n",
    "    #Split the description on the blank spaces, isolating each word\n",
    "    desc = data['desc'].iloc[i].split()\n",
    "    #For each word in the play description\n",
    "    for j in range(0,len(desc)):\n",
    "        #If a word is right, up, or left\n",
    "        if desc[j] == 'right' or desc[j] == 'up' or desc[j] == 'left':\n",
    "            #Set rusher_player_name for that play to the word just before the direction\n",
    "            data['rusher_player_name'].iloc[i] = desc[j-1]     \n",
    "        else:\n",
    "            pass"
   ]
  },
  {
   "cell_type": "code",
   "execution_count": 5,
   "metadata": {},
   "outputs": [
    {
     "data": {
      "text/plain": [
       "Series([], Name: passer_player_name, dtype: bool)"
      ]
     },
     "execution_count": 5,
     "metadata": {},
     "output_type": "execute_result"
    }
   ],
   "source": [
    "#Create a smaller dataframe with plays where passer_player_name is null\n",
    "passer_nan = data.loc[(data['play_type'] == 'pass') &\n",
    "         (data['passer_player_name'].isnull())]\n",
    "#Create a list of the indexes/indices for the plays where passer_player_name is null\n",
    "passer_nan_indices = list(passer_nan.index)\n",
    "\n",
    "for i in passer_nan_indices:\n",
    "    #Split the description on the blank spaces, isolating each word\n",
    "    desc = data['desc'].iloc[i].split()\n",
    "    #For each word in the play description\n",
    "    for j in range(0,len(desc)):\n",
    "        #If a word is pass\n",
    "        if desc[j] == 'pass':\n",
    "            data['passer_player_name'].iloc[i] = desc[j-1]            \n",
    "        else:\n",
    "            pass\n",
    "#Change any backwards passes that incorrectly labeled passer_player_name as Backward\n",
    "data.loc[data['passer_player_name'] == 'Backward', 'passer_player_name'] == float('NaN')"
   ]
  },
  {
   "cell_type": "code",
   "execution_count": 6,
   "metadata": {},
   "outputs": [],
   "source": [
    "receiver_nan = data.loc[(data['play_type'] == 'pass') & \n",
    "                        (data['receiver_player_name'].isnull()) &\n",
    "                        (data['desc'].str.contains('scrambles|sacked|incomplete')==False)]\n",
    "\n",
    "receiver_nan_indices = list(receiver_nan.index)\n",
    "\n",
    "for i in receiver_nan_indices:\n",
    "    desc = data['desc'].iloc[i].split()\n",
    "\n",
    "    for j in range(0,len(desc)):\n",
    "        if (desc[j]=='left' or desc[j]=='right' or desc[j]=='middle') and (desc[j] != desc[-1]):\n",
    "            if desc[j+1]=='to':\n",
    "                data['receiver_player_name'].iloc[i] = desc[j+2]\n",
    "        else:\n",
    "            pass"
   ]
  },
  {
   "cell_type": "code",
   "execution_count": 7,
   "metadata": {},
   "outputs": [],
   "source": [
    "data.insert(69, 'success', 0)"
   ]
  },
  {
   "cell_type": "code",
   "execution_count": 8,
   "metadata": {},
   "outputs": [],
   "source": [
    "data.loc[data['epa'] > 0, 'success'] = 1"
   ]
  },
  {
   "cell_type": "code",
   "execution_count": 9,
   "metadata": {},
   "outputs": [],
   "source": [
    "data.to_csv('2019data.csv')"
   ]
  },
  {
   "cell_type": "code",
   "execution_count": null,
   "metadata": {},
   "outputs": [],
   "source": []
  }
 ],
 "metadata": {
  "kernelspec": {
   "display_name": "Python 3",
   "language": "python",
   "name": "python3"
  },
  "language_info": {
   "codemirror_mode": {
    "name": "ipython",
    "version": 3
   },
   "file_extension": ".py",
   "mimetype": "text/x-python",
   "name": "python",
   "nbconvert_exporter": "python",
   "pygments_lexer": "ipython3",
   "version": "3.7.4"
  }
 },
 "nbformat": 4,
 "nbformat_minor": 2
}
