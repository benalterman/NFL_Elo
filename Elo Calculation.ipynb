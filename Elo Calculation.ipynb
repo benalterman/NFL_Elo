{
 "cells": [
  {
   "cell_type": "code",
   "execution_count": 97,
   "metadata": {},
   "outputs": [],
   "source": [
    "# Imports\n",
    "import pandas as pd\n",
    "import numpy as np\n",
    "from collections import OrderedDict"
   ]
  },
  {
   "cell_type": "code",
   "execution_count": 98,
   "metadata": {},
   "outputs": [],
   "source": [
    "# Get data\n",
    "df = pd.read_csv('rts.csv')\n",
    "np = df.to_numpy()\n",
    "keys = np[:,0]\n",
    "values = np[:,1]\n",
    "dict = {k: v for k, v in zip(keys, values)}\n",
    "\n",
    "# Make variables\n",
    "ari = dict.get('ARI'); atl = dict.get('ATL'); blt = dict.get('BAL'); buf = dict.get('BUF')\n",
    "car = dict.get('CAR'); chi = dict.get('CHI'); cin = dict.get('CIN'); cle = dict.get('CLE')\n",
    "dal = dict.get('DAL'); den = dict.get('DEN'); det = dict.get('DET'); gb = dict.get('GB')\n",
    "hou = dict.get('HOU'); ind = dict.get('IND'); jax = dict.get('JAX'); kc = dict.get('KC')\n",
    "lac = dict.get('LAC'); lar = dict.get('LAR'); mia = dict.get('MIA'); minn = dict.get('MIN')\n",
    "ne = dict.get('NE'); no = dict.get('NO'); nyg = dict.get('NYG'); nyj = dict.get('NYJ'); \n",
    "oak = dict.get('OAK'); phi = dict.get('PHI'); pitt = dict.get('PIT'); sea = dict.get('SEA'); \n",
    "sf = dict.get('SF'); tb = dict.get('TB'); tenn = dict.get('TEN'); was = dict.get('WAS'); \n",
    "\n",
    "rank = list(i+1 for i in range(32))\n",
    "\n",
    "k1 = 0.1\n",
    "k2 = 0.2\n",
    "playoff = 1.2"
   ]
  },
  {
   "cell_type": "code",
   "execution_count": 53,
   "metadata": {},
   "outputs": [],
   "source": [
    "# Win probability function\n"
   ]
  },
  {
   "cell_type": "code",
   "execution_count": 54,
   "metadata": {},
   "outputs": [],
   "source": [
    "# Function to determine winner\n",
    "\n",
    "def winner(home, team1, road, team2):\n",
    "    if (home + 50) != road:\n",
    "        if (home + 50) > road:\n",
    "            print('The winner is', team1)\n",
    "            print('The loser is', team2)\n",
    "        else:\n",
    "            print('The winner is', team2)\n",
    "            print('The loser is', team1)\n",
    "    else:\n",
    "        pass"
   ]
  },
  {
   "cell_type": "code",
   "execution_count": 99,
   "metadata": {},
   "outputs": [],
   "source": [
    "# lists\n",
    "teams = ['ARI', 'ATL', 'BLT', 'BUF', 'CAR', 'CHI', 'CIN', 'CLE',\n",
    "        'DAL', 'DEN', 'DET', 'GB', 'HOU', 'IND', 'JAX', 'KC', 'LAC',\n",
    "        'LAR', 'MIA', 'MIN', 'NO', 'NE', 'NYG', 'NYJ', 'OAK',\n",
    "        'PHI', 'PITT', 'SEA', 'SF', 'TB', 'TENN', 'WASH']\n",
    "elo = [ari, atl, blt, buf, car, chi, cin, cle,\n",
    "        dal, den, det, gb, hou, ind, jax, kc, lac,\n",
    "        lar, mia, minn, no, ne, nyg, nyj, oak,\n",
    "        phi, pitt, sea, sf, tb, tenn, was]\n",
    "\n",
    "# Elo Rankings Table\n",
    "table = pd.DataFrame({'Teams':teams, 'Elo':elo})\n",
    "table = table.sort_values(by=['Elo'], ascending=False)\n",
    "table.insert(0, 'Rank', rank)\n",
    "table['Projected Wins'] = table['Elo']/3200*16\n",
    "table.set_index('Rank', inplace = True)\n",
    "table = table.rename_axis(None)\n",
    "# table.to_csv('Pre Week 1 elo.csv')\n",
    "#table.head()"
   ]
  },
  {
   "cell_type": "code",
   "execution_count": 93,
   "metadata": {},
   "outputs": [],
   "source": [
    "# Function to update elo\n",
    "\n",
    "def update_elo(home, road):\n",
    "    if (home + 50) != road:\n",
    "        if (home + 50) > road:\n",
    "            home = k1 * (home - 50 - road) + home\n",
    "            road = k1 * (road + 50 - home) + road\n",
    "            return home, road\n",
    "        else:\n",
    "            home = home - (k2 * (home - 50 - road))\n",
    "            road = k2 * (road + 50 - home) + road\n",
    "            return home, road\n",
    "    else:\n",
    "        pass\n",
    "    return home, road"
   ]
  },
  {
   "cell_type": "code",
   "execution_count": 94,
   "metadata": {},
   "outputs": [
    {
     "data": {
      "text/plain": [
       "(1965.9, 1505.71)"
      ]
     },
     "execution_count": 94,
     "metadata": {},
     "output_type": "execute_result"
    }
   ],
   "source": [
    "update_elo(kc, tenn)\n",
    "print()"
   ]
  },
  {
   "cell_type": "code",
   "execution_count": 96,
   "metadata": {},
   "outputs": [],
   "source": [
    "# NFL week 1\n",
    "\n",
    "# gb @ chi \n",
    "update_elo(chi, gb)\n",
    "(chi, gb) = update_elo(chi, gb)\n",
    "\n",
    "# lar @ car\n",
    "update_elo(car, lar)\n",
    "(car, lar) = update_elo(car, lar)\n",
    "\n",
    "# was @ phi\n",
    "update_elo(phi, was)\n",
    "(phi, was) = update_elo(phi, was)\n",
    "\n",
    "# buf @ nyj\n",
    "update_elo(nyj, buf)\n",
    "(nyj, buf) = update_elo(nyj, buf)\n",
    "\n",
    "# atl @ minn\n",
    "update_elo(minn, atl)\n",
    "(minn, atl) = update_elo(minn, atl)\n",
    "\n",
    "# bal @ mia\n",
    "update_elo(mia, blt)\n",
    "(mia, blt) = update_elo(mia, blt)\n",
    "\n",
    "# kc @ jax\n",
    "update_elo(jax, kc)\n",
    "(jax, kc) = update_elo(jax, kc)\n",
    "\n",
    "# tenn @ cle\n",
    "update_elo(cle, tenn)\n",
    "(cle, tenn) = update_elo(cle, tenn)\n",
    "\n",
    "# ind @ lac\n",
    "update_elo(lac, ind)\n",
    "(lac, ind) = update_elo(lac, ind)\n",
    "\n",
    "# cin @ sea\n",
    "update_elo(sea, cin)\n",
    "(sea, cin) = update_elo(sea, cin)\n",
    "\n",
    "# sf @ tb\n",
    "update_elo(tb, sf)\n",
    "(tb, sf) = update_elo(tb, sf)\n",
    "\n",
    "# nyg @ dal\n",
    "update_elo(dal, nyg)\n",
    "(dal, nyg) = update_elo(dal, nyg)\n",
    "\n",
    "# det @ ari\n",
    "update_elo(ari, det)\n",
    "(ari, det) = update_elo(ari, det)\n",
    "\n",
    "# pitt @ ne\n",
    "update_elo(ne, pitt)\n",
    "(ne, pitt) = update_elo(ne, pitt)\n",
    "\n",
    "# hou @ no\n",
    "update_elo(no, hou)\n",
    "(no, hou) = update_elo(no, hou)\n",
    "\n",
    "# den @ oak\n",
    "update_elo(oak, den)\n",
    "(oak, den) = update_elo(oak, den)"
   ]
  },
  {
   "cell_type": "code",
   "execution_count": null,
   "metadata": {},
   "outputs": [],
   "source": [
    "# Post Week 1 Table\n",
    "\n",
    "elo = [ari, atl, blt, buf, car, chi, cin, cle,\n",
    "        dal, den, det, gb, hou, ind, jax, kc, lac,\n",
    "        lar, mia, minn, no, ne, nyg, nyj, oak,\n",
    "        phi, pitt, sea, sf, tb, tenn, was]\n",
    "\n",
    "table = pd.DataFrame({'Teams':teams, 'Elo':elo})\n",
    "table = table.sort_values(by=['Elo'], ascending=False)\n",
    "table.insert(0, 'Rank', rank)\n",
    "table['Projected Wins'] = table['Elo']/3200*16\n",
    "table.set_index('Rank', inplace = True)\n",
    "table = table.rename_axis(None)\n",
    "# table.to_csv('Post Week 1 elo.csv')\n",
    "#table.head()"
   ]
  }
 ],
 "metadata": {
  "kernelspec": {
   "display_name": "Python 3",
   "language": "python",
   "name": "python3"
  },
  "language_info": {
   "codemirror_mode": {
    "name": "ipython",
    "version": 3
   },
   "file_extension": ".py",
   "mimetype": "text/x-python",
   "name": "python",
   "nbconvert_exporter": "python",
   "pygments_lexer": "ipython3",
   "version": "3.7.4"
  }
 },
 "nbformat": 4,
 "nbformat_minor": 2
}
